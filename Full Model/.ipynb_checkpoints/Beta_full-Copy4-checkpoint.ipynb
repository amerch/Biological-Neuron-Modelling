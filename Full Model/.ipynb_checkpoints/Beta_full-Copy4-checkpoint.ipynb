{
 "cells": [
  {
   "cell_type": "markdown",
   "metadata": {},
   "source": [
    "# Individual Neuron Development"
   ]
  },
  {
   "cell_type": "code",
   "execution_count": 1,
   "metadata": {
    "collapsed": false,
    "scrolled": true
   },
   "outputs": [],
   "source": [
    "import sys\n",
    "sys.path.insert(0, '/Users/amilmerchant/NEST/install/lib/python2.7/site-packages')\n",
    "import nest\n",
    "import pylab\n",
    "import math"
   ]
  },
  {
   "cell_type": "code",
   "execution_count": 2,
   "metadata": {
    "collapsed": false
   },
   "outputs": [],
   "source": [
    "nest.ResetKernel()\n",
    "nest.SetKernelStatus({\"local_num_threads\": 4})\n",
    "nest.SetKernelStatus({\"resolution\": 0.2})"
   ]
  },
  {
   "cell_type": "code",
   "execution_count": 3,
   "metadata": {
    "collapsed": false
   },
   "outputs": [],
   "source": [
    "e_dict = {'V_m': -55.,\n",
    "          'V_th': -50.,\n",
    "          'V_peak': 0.,\n",
    "          'V_reset': -55.,\n",
    "          'C_m': 500.,\n",
    "          'g_L': 25.,\n",
    "          'E_L':-70.,\n",
    "          'E_rev': [0., -70., 0.],\n",
    "          'tau_rise' : [0.2, 0.2, 2.],\n",
    "          'tau_decay' : [2., 5., 100.],\n",
    "          'a' : 0.,\n",
    "          'b' : 0.,\n",
    "          'Delta_T' : 0.,\n",
    "          'tau_w' : 1000.,\n",
    "          't_ref' : 2.\n",
    "         }"
   ]
  },
  {
   "cell_type": "code",
   "execution_count": 4,
   "metadata": {
    "collapsed": false
   },
   "outputs": [],
   "source": [
    "i_dict = {'V_m' : -55.,\n",
    "          'V_th': -50.,\n",
    "          'V_peak': 0.,\n",
    "          'V_reset': -55.,\n",
    "          'C_m': 200.,\n",
    "          'g_L': 20.,\n",
    "          'E_L':-70.,\n",
    "          'E_rev': [0., -70., 0.],\n",
    "          'tau_rise' : [0.2, 0.2, 2.],\n",
    "          'tau_decay' : [2., 5., 100.],\n",
    "          'a' : 0.,\n",
    "          'b' : 0.,\n",
    "          'Delta_T' : 0.,\n",
    "          'tau_w' : 1000.,\n",
    "          't_ref' : 1.\n",
    "         }"
   ]
  },
  {
   "cell_type": "code",
   "execution_count": 5,
   "metadata": {
    "collapsed": false
   },
   "outputs": [],
   "source": [
    "N_e = 1600\n",
    "N_i = 400\n",
    "\n",
    "Cxe = nest.Create(\"aeif_cond_beta_multisynapse\", N_e, e_dict)\n",
    "Cxi = nest.Create(\"aeif_cond_beta_multisynapse\", N_i, i_dict)\n",
    "\n",
    "\n",
    "Cxe_L = Cxe[:240]\n",
    "Cxe_R = Cxe[240:480]\n",
    "Cxe_non = Cxe[480:]"
   ]
  },
  {
   "cell_type": "code",
   "execution_count": 6,
   "metadata": {
    "collapsed": false
   },
   "outputs": [],
   "source": [
    "N_cd = 250 #250 GABAergic neurons for each population\n",
    "CD_L = nest.Create(\"aeif_cond_beta_multisynapse\", N_cd, e_dict)\n",
    "CD_R = nest.Create(\"aeif_cond_beta_multisynapse\", N_cd, e_dict)\n",
    "\n",
    "N_snr = 250 #250 GABAergic neurons for each population\n",
    "SNr_L = nest.Create(\"aeif_cond_beta_multisynapse\", N_snr, e_dict)\n",
    "SNr_R = nest.Create(\"aeif_cond_beta_multisynapse\", N_snr, e_dict)"
   ]
  },
  {
   "cell_type": "code",
   "execution_count": 7,
   "metadata": {
    "collapsed": true
   },
   "outputs": [],
   "source": [
    "N_sce = 250 #250 GABAergic neurons for each population\n",
    "SCe_L = nest.Create(\"aeif_cond_beta_multisynapse\", N_sce, e_dict)\n",
    "SCe_R = nest.Create(\"aeif_cond_beta_multisynapse\", N_sce, e_dict)\n",
    "\n",
    "N_sci = 250\n",
    "SCi = nest.Create(\"aeif_cond_beta_multisynapse\", N_sci, i_dict)"
   ]
  },
  {
   "cell_type": "code",
   "execution_count": 8,
   "metadata": {
    "collapsed": true
   },
   "outputs": [],
   "source": [
    "N_gpe = 2500\n",
    "GPe_L = nest.Create(\"aeif_cond_beta_multisynapse\", N_gpe, e_dict)\n",
    "GPe_R = nest.Create(\"aeif_cond_beta_multisynapse\", N_gpe, e_dict)\n",
    "\n",
    "N_stn = 2500\n",
    "STN_L = nest.Create(\"aeif_cond_beta_multisynapse\", N_stn, e_dict)\n",
    "STN_R = nest.Create(\"aeif_cond_beta_multisynapse\", N_stn, e_dict)"
   ]
  },
  {
   "cell_type": "markdown",
   "metadata": {},
   "source": [
    "## Synapses"
   ]
  },
  {
   "cell_type": "code",
   "execution_count": 9,
   "metadata": {
    "collapsed": true
   },
   "outputs": [],
   "source": [
    "nest.CopyModel(\"static_synapse\", \"eAMPA\", \n",
    "               {\"weight\": 1.0, 'receptor_type': 1,  'delay' : 0.2})\n",
    "nest.CopyModel(\"static_synapse\", \"eGABA\", \n",
    "               {\"weight\": 1.0, 'receptor_type': 2, 'delay': 0.2})\n",
    "nest.CopyModel(\"static_synapse\", \"eNMDA\", \n",
    "               {\"weight\": 1.0, 'receptor_type': 3, 'delay': 0.2})"
   ]
  },
  {
   "cell_type": "code",
   "execution_count": 10,
   "metadata": {
    "collapsed": true
   },
   "outputs": [],
   "source": [
    "cor_back = nest.Create('poisson_generator', 1, {'rate': 2400.})\n",
    "\n",
    "parrot_cxe = nest.Create('parrot_neuron', 1600)\n",
    "parrot_cxi = nest.Create('parrot_neuron', 400)\n",
    "\n",
    "conn_dict = {'rule': 'all_to_all'}\n",
    "\n",
    "nest.Connect(cor_back, parrot_cxe, conn_dict, {'model': 'static_synapse'})\n",
    "nest.Connect(cor_back, parrot_cxi, conn_dict, {'model': 'static_synapse'})"
   ]
  },
  {
   "cell_type": "code",
   "execution_count": 11,
   "metadata": {
    "collapsed": false
   },
   "outputs": [],
   "source": [
    "correction = (1 + 1 * math.exp(-0.062 * -55) / 3.57)\n",
    "\n",
    "w_plus = 1.7\n",
    "f = float(len(Cxe_L)) /len(Cxe)\n",
    "w_minus = 1 - f * (w_plus - 1) / (1 - f)"
   ]
  },
  {
   "cell_type": "code",
   "execution_count": 12,
   "metadata": {
    "collapsed": false
   },
   "outputs": [],
   "source": [
    "nest.Connect(parrot_cxe, Cxe, {'rule': 'one_to_one'}, {'model': 'eAMPA', 'weight': 2.1})\n",
    "#nest.Connect(parrot_cxe, Cxe, {'rule': 'one_to_one'}, {'model': 'eNMDA', 'weight': 0.165 / correction})\n",
    "\n",
    "nest.Connect(parrot_cxi, Cxi, {'rule': 'one_to_one'}, {'model': 'eAMPA', 'weight': 1.62 })\n",
    "#nest.Connect(parrot_cxi, Cxi, {'rule': 'one_to_one'}, {'model': 'eNMDA', 'weight': 0.13 / correction})"
   ]
  },
  {
   "cell_type": "markdown",
   "metadata": {},
   "source": [
    "### External Connections"
   ]
  },
  {
   "cell_type": "code",
   "execution_count": 13,
   "metadata": {
    "collapsed": false
   },
   "outputs": [],
   "source": [
    "nest.Connect(Cxe_L, SCe_L, conn_dict, {'model': 'eAMPA', 'weight': 3.5}) \n",
    "nest.Connect(Cxe_R, SCe_R, conn_dict, {'model': 'eAMPA', 'weight': 3.5}) \n",
    "\n",
    "# 0.8 - 4.6 depending on the model\n",
    "nest.Connect(Cxe_L, CD_L, conn_dict, {'model': 'eAMPA', 'weight': 3.}) # 1 - 4.5 nS\n",
    "nest.Connect(Cxe_R, CD_R, conn_dict, {'model': 'eAMPA', 'weight': 3.}) # 1 - 4.5 nS"
   ]
  },
  {
   "cell_type": "markdown",
   "metadata": {},
   "source": [
    "### Internal Connections"
   ]
  },
  {
   "cell_type": "code",
   "execution_count": 14,
   "metadata": {
    "collapsed": false
   },
   "outputs": [],
   "source": [
    "nest.Connect(Cxe_L, Cxe_L, conn_dict, {'model': 'eAMPA', 'weight': 0.085})\n",
    "nest.Connect(Cxe_R, Cxe_R, conn_dict, {'model': 'eAMPA', 'weight': 0.085})\n",
    "\n",
    "nest.Connect(Cxe_L, Cxe_L, conn_dict, {'model': 'eNMDA', 'weight': 0.2805 / correction })\n",
    "nest.Connect(Cxe_R, Cxe_R, conn_dict, {'model': 'eNMDA', 'weight': 0.2805 / correction})\n",
    "\n",
    "nest.Connect(Cxe, Cxi, conn_dict, {'model': 'eAMPA', 'weight': 0.04 })\n",
    "nest.Connect(Cxe, Cxi, conn_dict, {'model': 'eNMDA', 'weight': 0.13 / correction })\n",
    "\n",
    "nest.Connect(Cxe_L, Cxe_R, conn_dict, {'model': 'eAMPA', 'weight': 0.043825})\n",
    "nest.Connect(Cxe_R, Cxe_L, conn_dict, {'model': 'eAMPA', 'weight': 0.043825})\n",
    "\n",
    "nest.Connect(Cxe_L, Cxe_R, conn_dict, {'model': 'eNMDA', 'weight': 0.14462 / correction })\n",
    "nest.Connect(Cxe_R, Cxe_L, conn_dict, {'model': 'eNMDA', 'weight': 0.14462 / correction })\n",
    "\n",
    "nest.Connect(Cxe_L, Cxe_non, conn_dict, {'model': 'eAMPA', 'weight': 0.05})\n",
    "nest.Connect(Cxe_L, Cxe_non, conn_dict, {'model': 'eNMDA', 'weight': 0.165 / correction })\n",
    "\n",
    "nest.Connect(Cxe_R, Cxe_non, conn_dict, {'model': 'eAMPA', 'weight': 0.05 })\n",
    "nest.Connect(Cxe_R, Cxe_non, conn_dict, {'model': 'eNMDA', 'weight': 0.165 / correction })\n",
    "\n",
    "nest.Connect(Cxe_non, Cxe_L, conn_dict, {'model': 'eAMPA', 'weight': 0.043825})\n",
    "nest.Connect(Cxe_non, Cxe_L, conn_dict, {'model': 'eNMDA', 'weight': 0.14462 / correction })\n",
    "\n",
    "nest.Connect(Cxe_non, Cxe_R, conn_dict, {'model': 'eAMPA', 'weight': 0.043825})\n",
    "nest.Connect(Cxe_non, Cxe_R, conn_dict, {'model': 'eNMDA', 'weight': 0.14462 / correction })\n",
    "\n",
    "nest.Connect(Cxe_non, Cxe_non, conn_dict, {'model': 'eAMPA', 'weight': 0.05})\n",
    "nest.Connect(Cxe_non, Cxe_non, conn_dict, {'model': 'eNMDA', 'weight': 0.165/ correction })\n",
    "\n",
    "nest.Connect(Cxi, Cxe, conn_dict, {'model': 'eGABA', 'weight': 1.3 })\n",
    "nest.Connect(Cxi, Cxi, conn_dict, {'model': 'eGABA', 'weight': 1.0 })"
   ]
  },
  {
   "cell_type": "code",
   "execution_count": 15,
   "metadata": {
    "collapsed": false
   },
   "outputs": [],
   "source": [
    "coherence = 25.6\n",
    "u_a_factor = 60\n",
    "u_b_factor = 20\n",
    "\n",
    "u_a = 20 + u_a_factor * coherence / 100.\n",
    "u_b = 20 - u_b_factor * coherence / 100.\n",
    "\n",
    "\n",
    "input_left = nest.Create('poisson_generator', 1, {'rate': u_a, 'start': 100.})\n",
    "input_right = nest.Create('poisson_generator', 1, {'rate': u_b, 'start': 100.})\n",
    "\n",
    "nest.Connect(input_left, Cxe_L, conn_dict, {'model': 'eAMPA', 'weight': 2.1 })\n",
    "nest.Connect(input_right, Cxe_R, conn_dict, {'model': 'eAMPA', 'weight': 2.1 })"
   ]
  },
  {
   "cell_type": "markdown",
   "metadata": {},
   "source": [
    "# Basal Ganglia"
   ]
  },
  {
   "cell_type": "markdown",
   "metadata": {},
   "source": [
    "### Internal Connections"
   ]
  },
  {
   "cell_type": "code",
   "execution_count": 16,
   "metadata": {
    "collapsed": false
   },
   "outputs": [],
   "source": [
    "nest.Connect(CD_L, CD_L, conn_dict, {'model': 'eGABA', 'weight': 1.0})\n",
    "nest.Connect(CD_R, CD_R, conn_dict, {'model': 'eGABA', 'weight': 1.0})\n",
    "\n",
    "nest.Connect(CD_L, SNr_L, conn_dict, {'model': 'eGABA', 'weight': 3.0})\n",
    "nest.Connect(CD_R, SNr_R, conn_dict, {'model': 'eGABA', 'weight': 3.0})\n",
    "\n",
    "nest.Connect(CD_L, GPe_L, conn_dict, {'model': 'eGABA', 'weight': 4.0}) # 0 - 8nS\n",
    "nest.Connect(CD_R, GPe_R, conn_dict, {'model': 'eGABA', 'weight': 4.0}) # 0 - 8nS\n",
    "\n",
    "nest.Connect(GPe_L, GPe_L, {'rule': 'pairwise_bernoulli', 'p': 0.05}, {'model': 'eGABA', 'weight': 1.5})\n",
    "nest.Connect(GPe_R, GPe_R, {'rule': 'pairwise_bernoulli', 'p': 0.05}, {'model': 'eGABA', 'weight': 1.5})\n",
    "\n",
    "nest.Connect(GPe_L, STN_L, {'rule': 'pairwise_bernoulli', 'p': 0.02}, {'model': 'eGABA', 'weight': 0.6})\n",
    "nest.Connect(GPe_R, STN_R, {'rule': 'pairwise_bernoulli', 'p': 0.02}, {'model': 'eGABA', 'weight': 0.6})\n",
    "\n",
    "nest.Connect(GPe_L, SNr_L, conn_dict, {'model': 'eGABA', 'weight': 0.08})\n",
    "nest.Connect(GPe_R, SNr_R, conn_dict, {'model': 'eGABA', 'weight': 0.08})\n",
    "     \n",
    "#nest.Connect(STN_L, GPe_L, {'rule': 'pairwise_bernoulli', 'p': 0.05}, {'model': 'eAMPA', 'weight': 0.05})\n",
    "#nest.Connect(STN_R, GPe_R, {'rule': 'pairwise_bernoulli', 'p': 0.05}, {'model': 'eAMPA', 'weight': 0.05})\n",
    "\n",
    "nest.Connect(STN_L, GPe_L, {'rule': 'pairwise_bernoulli', 'p': 0.05}, {'model': 'eNMDA', 'weight': 2.0 / correction})\n",
    "nest.Connect(STN_R, GPe_R, {'rule': 'pairwise_bernoulli', 'p': 0.05}, {'model': 'eNMDA', 'weight': 2.0 / correction})\n",
    "\n",
    "nest.Connect(STN_L, SNr_L, conn_dict, {'model': 'eNMDA', 'weight': 0.06 / correction})\n",
    "nest.Connect(STN_R, SNr_R, conn_dict, {'model': 'eNMDA', 'weight': 0.06 / correction})"
   ]
  },
  {
   "cell_type": "markdown",
   "metadata": {},
   "source": [
    "### External Connections"
   ]
  },
  {
   "cell_type": "code",
   "execution_count": 17,
   "metadata": {
    "collapsed": true
   },
   "outputs": [],
   "source": [
    "nest.Connect(SNr_L, SCe_L, conn_dict, {'model': 'eGABA', 'weight': 2.5})\n",
    "nest.Connect(SNr_R, SCe_R, conn_dict, {'model': 'eGABA', 'weight': 2.5})"
   ]
  },
  {
   "cell_type": "code",
   "execution_count": 18,
   "metadata": {
    "collapsed": true
   },
   "outputs": [],
   "source": [
    "# Create Poisson Inputs for the CD and SNr neurons"
   ]
  },
  {
   "cell_type": "code",
   "execution_count": 19,
   "metadata": {
    "collapsed": false
   },
   "outputs": [
    {
     "data": {
      "text/plain": [
       "\"\\nparrot_cdl = nest.Create('parrot_neuron', 250)\\nparrot_cdr = nest.Create('parrot_neuron', 250)\\nparrot_gpe_ampa = nest.Create('parrot_neuron', 250)\\nparrot_gpe_gaba = nest.Create('parrot_neuron', 250)\\nparrot_snrl = nest.Create('parrot_neuron', 250)\\nparrot_snrr = nest.Create('parrot_neuron', 250)\\n\\nnest.Connect(cd_back, parrot_cdl, conn_dict, {'model': 'static_synapse'})\\nnest.Connect(cd_back, parrot_cdr, conn_dict, {'model': 'static_synapse'})\\n\\nnest.Connect(gpe_ampa_back, parrot_gpe_ampa, conn_dict, {'model': 'static_synapse'})\\nnest.Connect(gpe_gaba_back, parrot_gpe_gaba, conn_dict, {'model': 'static_synapse'})\\n\\nnest.Connect(bg_back, parrot_snrl, conn_dict, {'model': 'static_synapse'})\\nnest.Connect(bg_back, parrot_snrr, conn_dict, {'model': 'static_synapse'})\\n\\nnest.Connect(parrot_cdcl, CD_L, {'rule': 'one_to_one'}, {'model': 'eAMPA', 'weight': 4.0})\\n#nest.Connect(parrot_cdl, CD_L, {'rule': 'one_to_one'}, {'model': 'eNMDA', 'weight': 0.165 / correction})\\n\\nnest.Connect(parrot_cdr, CD_R, {'rule': 'one_to_one'}, {'model': 'eAMPA', 'weight': 4.0})\\n#nest.Connect(parrot_cdr, CD_R, {'rule': 'one_to_one'}, {'model': 'eNMDA', 'weight': 0.165 / correction})\\n\\nnest.Connect(parrot_snrl, SNr_L, {'rule': 'one_to_one'}, {'model': 'eAMPA', 'weight': 13.76})\\n#nest.Connect(parrot_snrl, SNr_L, {'rule': 'one_to_one'}, {'model': 'eNMDA', 'weight': 0.165 / correction})\\n\\nnest.Connect(parrot_snrr, SNr_R, {'rule': 'one_to_one'}, {'model': 'eAMPA', 'weight': 13.76})\\n#nest.Connect(parrot_snrr, SNr_R, {'rule': 'one_to_one'}, {'model': 'eNMDA', 'weight': 0.165 / correction})\\n\""
      ]
     },
     "execution_count": 19,
     "metadata": {},
     "output_type": "execute_result"
    }
   ],
   "source": [
    "cd_back = nest.Create('poisson_generator', 1, {'rate': 800.})\n",
    "gpe_ampa_back = nest.Create('poisson_generator', 1, {'rate': 3200.})\n",
    "gpe_gaba_back = nest.Create('poisson_generator', 1, {'rate': 2000.})\n",
    "stn_back = nest.Create('poisson_generator', 1, {'rate': 4000.})\n",
    "#bg_back = nest.Create('poisson_generator', 1, {'rate': 1200.})\n",
    "snr_back = nest.Create('poisson_generator', 1, {'rate': 800.})\n",
    "\n",
    "conn_dict = {'rule': 'all_to_all'}\n",
    "\n",
    "'''\n",
    "parrot_cdl = nest.Create('parrot_neuron', 250)\n",
    "parrot_cdr = nest.Create('parrot_neuron', 250)\n",
    "parrot_gpe_ampa = nest.Create('parrot_neuron', 250)\n",
    "parrot_gpe_gaba = nest.Create('parrot_neuron', 250)\n",
    "parrot_snrl = nest.Create('parrot_neuron', 250)\n",
    "parrot_snrr = nest.Create('parrot_neuron', 250)\n",
    "\n",
    "nest.Connect(cd_back, parrot_cdl, conn_dict, {'model': 'static_synapse'})\n",
    "nest.Connect(cd_back, parrot_cdr, conn_dict, {'model': 'static_synapse'})\n",
    "\n",
    "nest.Connect(gpe_ampa_back, parrot_gpe_ampa, conn_dict, {'model': 'static_synapse'})\n",
    "nest.Connect(gpe_gaba_back, parrot_gpe_gaba, conn_dict, {'model': 'static_synapse'})\n",
    "\n",
    "nest.Connect(bg_back, parrot_snrl, conn_dict, {'model': 'static_synapse'})\n",
    "nest.Connect(bg_back, parrot_snrr, conn_dict, {'model': 'static_synapse'})\n",
    "\n",
    "nest.Connect(parrot_cdcl, CD_L, {'rule': 'one_to_one'}, {'model': 'eAMPA', 'weight': 4.0})\n",
    "#nest.Connect(parrot_cdl, CD_L, {'rule': 'one_to_one'}, {'model': 'eNMDA', 'weight': 0.165 / correction})\n",
    "\n",
    "nest.Connect(parrot_cdr, CD_R, {'rule': 'one_to_one'}, {'model': 'eAMPA', 'weight': 4.0})\n",
    "#nest.Connect(parrot_cdr, CD_R, {'rule': 'one_to_one'}, {'model': 'eNMDA', 'weight': 0.165 / correction})\n",
    "\n",
    "nest.Connect(parrot_snrl, SNr_L, {'rule': 'one_to_one'}, {'model': 'eAMPA', 'weight': 13.76})\n",
    "#nest.Connect(parrot_snrl, SNr_L, {'rule': 'one_to_one'}, {'model': 'eNMDA', 'weight': 0.165 / correction})\n",
    "\n",
    "nest.Connect(parrot_snrr, SNr_R, {'rule': 'one_to_one'}, {'model': 'eAMPA', 'weight': 13.76})\n",
    "#nest.Connect(parrot_snrr, SNr_R, {'rule': 'one_to_one'}, {'model': 'eNMDA', 'weight': 0.165 / correction})\n",
    "'''"
   ]
  },
  {
   "cell_type": "code",
   "execution_count": 20,
   "metadata": {
    "collapsed": false
   },
   "outputs": [],
   "source": [
    "factor = 1.\n",
    "\n",
    "nest.Connect(cd_back, CD_L, conn_dict, {'model': 'eAMPA', 'weight': 4.0})\n",
    "nest.Connect(cd_back, CD_R, conn_dict, {'model': 'eAMPA', 'weight': 4.0})\n",
    "\n",
    "nest.Connect(gpe_ampa_back, GPe_L, conn_dict, {'model': 'eAMPA', 'weight': 3.2})\n",
    "nest.Connect(gpe_ampa_back, GPe_R, conn_dict, {'model': 'eAMPA', 'weight': 3.2})\n",
    "\n",
    "nest.Connect(gpe_gaba_back, GPe_L, conn_dict, {'model': 'eGABA', 'weight': 2.0})\n",
    "nest.Connect(gpe_gaba_back, GPe_R, conn_dict, {'model': 'eGABA', 'weight': 2.0})\n",
    "                                               \n",
    "nest.Connect(stn_back, STN_L, conn_dict, {'model': 'eAMPA', 'weight': 1.6})\n",
    "nest.Connect(stn_back, STN_R, conn_dict, {'model': 'eAMPA', 'weight': 1.6})\n",
    "                                                        \n",
    "nest.Connect(snr_back, SNr_L, conn_dict, {'model': 'eAMPA', 'weight': 14.0})\n",
    "nest.Connect(snr_back, SNr_R, conn_dict, {'model': 'eAMPA', 'weight': 14.0})"
   ]
  },
  {
   "cell_type": "markdown",
   "metadata": {},
   "source": [
    "# Superior Colliculus"
   ]
  },
  {
   "cell_type": "code",
   "execution_count": 21,
   "metadata": {
    "collapsed": true
   },
   "outputs": [],
   "source": [
    "nest.Connect(SCe_L, SCe_L, conn_dict, {'model': 'eNMDA', 'weight': 1.5 / correction })\n",
    "nest.Connect(SCe_R, SCe_R, conn_dict, {'model': 'eNMDA', 'weight': 1.5 / correction })\n",
    "\n",
    "nest.Connect(SCe_L, SCi, conn_dict, {'model': 'eNMDA', 'weight': 0.7 / correction })\n",
    "nest.Connect(SCe_R, SCi, conn_dict, {'model': 'eNMDA', 'weight': 0.7 / correction }) \n",
    "\n",
    "nest.Connect(SCe_L, Cxi, conn_dict, {'model': 'eNMDA', 'weight': 0.11 / correction }) \n",
    "nest.Connect(SCe_R, Cxi, conn_dict, {'model': 'eNMDA', 'weight': 0.11 / correction })\n",
    "\n",
    "nest.Connect(SCe_L, Cxe_L, conn_dict, {'model': 'eNMDA', 'weight': 0.05 / correction })\n",
    "nest.Connect(SCe_R, Cxe_R, conn_dict, {'model': 'eNMDA', 'weight': 0.05 / correction })\n",
    "\n",
    "# Include short term facilitation\n",
    "nest.Connect(SCi, SCe_L, conn_dict, {'model': 'eGABA', 'weight': 2.5}) \n",
    "nest.Connect(SCi, SCe_R, conn_dict, {'model': 'eGABA', 'weight': 2.5})"
   ]
  },
  {
   "cell_type": "code",
   "execution_count": 22,
   "metadata": {
    "collapsed": true
   },
   "outputs": [],
   "source": [
    "# Create Poisson Inputs for the CD and SNr neurons"
   ]
  },
  {
   "cell_type": "code",
   "execution_count": 23,
   "metadata": {
    "collapsed": false
   },
   "outputs": [],
   "source": [
    "sc_back = nest.Create('poisson_generator', 1, {'rate': 800.})\n",
    "\n",
    "parrot_scel = nest.Create('parrot_neuron', 250)\n",
    "parrot_scer = nest.Create('parrot_neuron', 250)\n",
    "parrot_sci = nest.Create('parrot_neuron', 250)\n",
    "\n",
    "nest.Connect(sc_back, parrot_scel, conn_dict, {'model': 'static_synapse'})\n",
    "nest.Connect(sc_back, parrot_scer, conn_dict, {'model': 'static_synapse'})\n",
    "nest.Connect(sc_back, parrot_sci, conn_dict, {'model': 'static_synapse'})"
   ]
  },
  {
   "cell_type": "code",
   "execution_count": 24,
   "metadata": {
    "collapsed": false
   },
   "outputs": [],
   "source": [
    "nest.Connect(parrot_scel, SCe_L, {'rule': 'one_to_one'}, {'model': 'eAMPA', 'weight': 0.4864})\n",
    "nest.Connect(parrot_scer, SCe_R, {'rule': 'one_to_one'}, {'model': 'eAMPA', 'weight': 0.4864})\n",
    "#nest.Connect(parrot_sci, SCi, {'rule': 'one_to_one'}, {'model': 'eAMPA', 'weight': 1.0})"
   ]
  },
  {
   "cell_type": "markdown",
   "metadata": {},
   "source": [
    "# Run the Model"
   ]
  },
  {
   "cell_type": "code",
   "execution_count": 25,
   "metadata": {
    "collapsed": false
   },
   "outputs": [],
   "source": [
    "multis = []\n",
    "for i in Cxe:\n",
    "    multimeter = nest.Create(\"multimeter\")\n",
    "    multis.append(multimeter)\n",
    "    nest.SetStatus(multimeter, {\"withtime\":True, \"record_from\":[\"V_m\"]})\n",
    "    nest.Connect(multimeter, [i])\n",
    "\n",
    "spikedetector = nest.Create(\"spike_detector\",\n",
    "                params={\"withgid\": True, \"withtime\": True})\n",
    "nest.Connect(Cxe, spikedetector)"
   ]
  },
  {
   "cell_type": "code",
   "execution_count": 26,
   "metadata": {
    "collapsed": false
   },
   "outputs": [],
   "source": [
    "import nest.raster_plot\n",
    "\n",
    "pops = [Cxe_L, Cxe_R, \n",
    "        Cxe, Cxi, \n",
    "        CD_L, CD_R,\n",
    "        GPe_L, GPe_R,\n",
    "        STN_L, STN_R,\n",
    "        SNr_L, SNr_R, \n",
    "        SCe_L, SCe_R, \n",
    "        SCi]\n",
    "sds = []\n",
    "for i in range(len(pops)):\n",
    "    sds.append(nest.Create(\"spike_detector\",\n",
    "                params={\"withtime\": True}))\n",
    "    nest.Connect(pops[i], sds[i])"
   ]
  },
  {
   "cell_type": "code",
   "execution_count": 27,
   "metadata": {
    "collapsed": true
   },
   "outputs": [],
   "source": [
    "import time\n",
    "start = time.time()\n",
    "sim_time = 300."
   ]
  },
  {
   "cell_type": "code",
   "execution_count": 28,
   "metadata": {
    "collapsed": false
   },
   "outputs": [
    {
     "name": "stdout",
     "output_type": "stream",
     "text": [
      "36.6542110443\n"
     ]
    }
   ],
   "source": [
    "nest.Simulate(sim_time)\n",
    "end = time.time()\n",
    "print end - start"
   ]
  },
  {
   "cell_type": "code",
   "execution_count": 29,
   "metadata": {
    "collapsed": false,
    "scrolled": false
   },
   "outputs": [
    {
     "data": {
      "text/plain": [
       "'\\nfor i in range(len(sds)):\\n    dSD = nest.GetStatus(sds[i],keys=\"events\")[0]\\n    if len(dSD[\\'senders\\']) == 0:\\n        print names[i], \"0 fires\"\\n    else:\\n        nest.raster_plot.from_device(sds[i], hist=True, hist_binwidth=2.,\\n                                 title=names[i])\\n'"
      ]
     },
     "execution_count": 29,
     "metadata": {},
     "output_type": "execute_result"
    }
   ],
   "source": [
    "\n",
    "import pylab\n",
    "pylab.ion()\n",
    "\n",
    "names = [\"Cxe_L\", \"Cxe_R\",\n",
    "         \"Cxe\", \"Cxi\",\n",
    "         \"CD_L\", \"CD_R\",\n",
    "         \"GPe_L\", \"GPe_R\",\n",
    "         \"STN_L\", \"STN_R\",\n",
    "         \"SNr_L\", \"SNr_R\",\n",
    "         \"SCe_L\", \"SCe_R\", \n",
    "         \"SCi\"]\n",
    "         \n",
    "'''\n",
    "for i in range(len(sds)):\n",
    "    dSD = nest.GetStatus(sds[i],keys=\"events\")[0]\n",
    "    if len(dSD['senders']) == 0:\n",
    "        print names[i], \"0 fires\"\n",
    "    else:\n",
    "        nest.raster_plot.from_device(sds[i], hist=True, hist_binwidth=2.,\n",
    "                                 title=names[i])\n",
    "'''"
   ]
  },
  {
   "cell_type": "code",
   "execution_count": 30,
   "metadata": {
    "collapsed": false
   },
   "outputs": [],
   "source": [
    "import matplotlib.pyplot as plt\n",
    "\n",
    "frame = 20 # 50 ms firing rate interval"
   ]
  },
  {
   "cell_type": "code",
   "execution_count": 31,
   "metadata": {
    "collapsed": false
   },
   "outputs": [
    {
     "data": {
      "text/plain": [
       "<matplotlib.legend.Legend at 0x13eda8d10>"
      ]
     },
     "execution_count": 31,
     "metadata": {},
     "output_type": "execute_result"
    },
    {
     "data": {
      "image/png": "[encoded data removed]",
      "text/plain": [
       "<matplotlib.figure.Figure at 0x138acf190>"
      ]
     },
     "metadata": {},
     "output_type": "display_data"
    }
   ],
   "source": [
    "width = 12\n",
    "height = 12\n",
    "plt.figure(figsize=(width, height))\n",
    "\n",
    "offset = 50\n",
    "\n",
    "plt.subplot(231)\n",
    "for i in range(2):\n",
    "    times = []\n",
    "    values = []\n",
    "    for j in range(offset + frame / 2 , (int) (sim_time - frame / 2), frame / 10):\n",
    "        times.append(j)\n",
    "        dsd = nest.GetStatus(sds[i],keys=\"events\")[0][\"times\"]\n",
    "        count = sum(1 if x <= j + frame / 2. and x >= j - frame / 2. else 0 for x in dsd)\n",
    "        values.append(1000. * count / frame / len(pops[i]))\n",
    "    plt.plot(times, values, lw=2, label= names[i])\n",
    "plt.legend()\n",
    "\n",
    "plt.subplot(234)\n",
    "for i in range(4,6):\n",
    "    times = []\n",
    "    values = []\n",
    "    for j in range(offset + frame / 2 , (int) (sim_time - frame / 2), frame / 10):\n",
    "        times.append(j)\n",
    "        dsd = nest.GetStatus(sds[i],keys=\"events\")[0][\"times\"]\n",
    "        count = sum(1 if x <= j + frame / 2. and x >= j - frame / 2. else 0 for x in dsd)\n",
    "        values.append(1000. * count / frame / len(pops[i]))\n",
    "    plt.plot(times, values, lw=2, label= names[i])\n",
    "plt.legend()\n",
    "\n",
    "plt.subplot(232)\n",
    "for i in range(6,8):\n",
    "    times = []\n",
    "    values = []\n",
    "    for j in range(offset + frame / 2 , (int) (sim_time - frame / 2), frame / 10):\n",
    "        times.append(j)\n",
    "        dsd = nest.GetStatus(sds[i],keys=\"events\")[0][\"times\"]\n",
    "        count = sum(1 if x <= j + frame / 2. and x >= j - frame / 2. else 0 for x in dsd)\n",
    "        values.append(1000. * count / frame / len(pops[i]))\n",
    "    plt.plot(times, values, lw=2, label= names[i])\n",
    "plt.legend()\n",
    "\n",
    "plt.subplot(235)\n",
    "for i in range(8,10):\n",
    "    times = []\n",
    "    values = []\n",
    "    for j in range(offset + frame / 2 , (int) (sim_time - frame / 2), frame / 10):\n",
    "        times.append(j)\n",
    "        dsd = nest.GetStatus(sds[i],keys=\"events\")[0][\"times\"]\n",
    "        count = sum(1 if x <= j + frame / 2. and x >= j - frame / 2. else 0 for x in dsd)\n",
    "        values.append(1000. * count / frame / len(pops[i]))\n",
    "    plt.plot(times, values, lw=2, label= names[i])\n",
    "plt.legend()\n",
    "\n",
    "plt.subplot(233)\n",
    "for i in range(10,12):\n",
    "    times = []\n",
    "    values = []\n",
    "    for j in range(offset + frame / 2 , (int) (sim_time - frame / 2), frame / 10):\n",
    "        times.append(j)\n",
    "        dsd = nest.GetStatus(sds[i],keys=\"events\")[0][\"times\"]\n",
    "        count = sum(1 if x <= j + frame / 2. and x >= j - frame / 2. else 0 for x in dsd)\n",
    "        values.append(1000. * count / frame / len(pops[i]))\n",
    "    plt.plot(times, values, lw=2, label= names[i])\n",
    "plt.legend()\n",
    "\n",
    "plt.subplot(236)\n",
    "for i in range(12,14):\n",
    "    times = []\n",
    "    values = []\n",
    "    for j in range(offset + frame / 2 , (int) (sim_time - frame / 2), frame / 10):\n",
    "        times.append(j)\n",
    "        dsd = nest.GetStatus(sds[i],keys=\"events\")[0][\"times\"]\n",
    "        count = sum(1 if x <= j + frame / 2. and x >= j - frame / 2. else 0 for x in dsd)\n",
    "        values.append(1000. * count / frame / len(pops[i]))\n",
    "    plt.plot(times, values, lw=2, label= names[i])\n",
    "plt.legend()"
   ]
  }
 ],
 "metadata": {
  "anaconda-cloud": {},
  "kernelspec": {
   "display_name": "Python [conda root]",
   "language": "python",
   "name": "conda-root-py"
  },
  "language_info": {
   "codemirror_mode": {
    "name": "ipython",
    "version": 2
   },
   "file_extension": ".py",
   "mimetype": "text/x-python",
   "name": "python",
   "nbconvert_exporter": "python",
   "pygments_lexer": "ipython2",
   "version": "2.7.12"
  }
 },
 "nbformat": 4,
 "nbformat_minor": 1
}
