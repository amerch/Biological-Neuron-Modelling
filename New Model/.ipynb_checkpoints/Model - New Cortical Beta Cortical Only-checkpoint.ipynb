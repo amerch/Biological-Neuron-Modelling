{
 "cells": [
  {
   "cell_type": "markdown",
   "metadata": {},
   "source": [
    "# Individual Neuron Development"
   ]
  },
  {
   "cell_type": "code",
   "execution_count": 1,
   "metadata": {
    "collapsed": true,
    "scrolled": true
   },
   "outputs": [],
   "source": [
    "import sys\n",
    "sys.path.insert(0, '/Users/amilmerchant/NEST/install/lib/python2.7/site-packages')\n",
    "import nest\n",
    "import pylab\n",
    "import math"
   ]
  },
  {
   "cell_type": "code",
   "execution_count": 2,
   "metadata": {
    "collapsed": true
   },
   "outputs": [],
   "source": [
    "nest.ResetKernel()\n",
    "nest.SetKernelStatus({\"local_num_threads\": 4})\n",
    "nest.SetKernelStatus({\"resolution\": 0.2})"
   ]
  },
  {
   "cell_type": "code",
   "execution_count": 3,
   "metadata": {
    "collapsed": true
   },
   "outputs": [],
   "source": [
    "e_dict = {'V_m': -55.,\n",
    "          'V_th': -50.,\n",
    "          'V_peak': 0.,\n",
    "          'V_reset': -55.,\n",
    "          'C_m': 500.,\n",
    "          'g_L': 25.,\n",
    "          'E_L':-70.,\n",
    "          'E_rev': [0., -70., 0.],\n",
    "          'tau_rise' : [0.2, 0.2, 2.],\n",
    "          'tau_decay' : [2., 5., 100.],\n",
    "          'a' : 0.,\n",
    "          'b' : 0.,\n",
    "          'Delta_T' : 0.,\n",
    "          'tau_w' : 1000.,\n",
    "          't_ref' : 2.\n",
    "         }"
   ]
  },
  {
   "cell_type": "code",
   "execution_count": 4,
   "metadata": {
    "collapsed": true
   },
   "outputs": [],
   "source": [
    "i_dict = {'V_m' : -55.,\n",
    "          'V_th': -50.,\n",
    "          'V_peak': 0.,\n",
    "          'V_reset': -55.,\n",
    "          'C_m': 200.,\n",
    "          'g_L': 20.,\n",
    "          'E_L':-70.,\n",
    "          'E_rev': [0., -70., 0.],\n",
    "          'tau_rise' : [0.2, 0.2, 2.],\n",
    "          'tau_decay' : [2., 5., 100.],\n",
    "          'a' : 0.,\n",
    "          'b' : 0.,\n",
    "          'Delta_T' : 0.,\n",
    "          'tau_w' : 1000.,\n",
    "          't_ref' : 1.\n",
    "         }"
   ]
  },
  {
   "cell_type": "code",
   "execution_count": 5,
   "metadata": {
    "collapsed": true
   },
   "outputs": [],
   "source": [
    "N_e = 1600\n",
    "N_i = 400\n",
    "\n",
    "Cxe = nest.Create(\"aeif_cond_beta_multisynapse\", N_e, e_dict)\n",
    "Cxi = nest.Create(\"aeif_cond_beta_multisynapse\", N_i, i_dict)\n",
    "\n",
    "\n",
    "Cxe_L = Cxe[:240]\n",
    "Cxe_R = Cxe[240:480]\n",
    "Cxe_ALL = Cxe[480:720]\n",
    "Cxe_AND = Cxe[720:740]\n",
    "Cxe_non = Cxe[740:]"
   ]
  },
  {
   "cell_type": "markdown",
   "metadata": {},
   "source": [
    "## Synapses"
   ]
  },
  {
   "cell_type": "code",
   "execution_count": 9,
   "metadata": {
    "collapsed": true
   },
   "outputs": [],
   "source": [
    "nest.CopyModel(\"static_synapse\", \"eAMPA\", \n",
    "               {\"weight\": 1.0, 'receptor_type': 1,  'delay' : 0.2})\n",
    "nest.CopyModel(\"static_synapse\", \"eGABA\", \n",
    "               {\"weight\": 1.0, 'receptor_type': 2, 'delay': 0.2})\n",
    "nest.CopyModel(\"ht_synapse\", \"eNMDA\", \n",
    "               {\"weight\": 1.0, 'receptor_type': 3, 'delay': 0.2})"
   ]
  },
  {
   "cell_type": "code",
   "execution_count": 10,
   "metadata": {
    "collapsed": true
   },
   "outputs": [],
   "source": [
    "nest.SetDefaults(\"eNMDA\", {\"tau_P\": 100.})"
   ]
  },
  {
   "cell_type": "code",
   "execution_count": 11,
   "metadata": {
    "collapsed": true
   },
   "outputs": [],
   "source": [
    "cor_back = nest.Create('poisson_generator', 1, {'rate': 2400.})\n",
    "\n",
    "parrot_cxe = nest.Create('parrot_neuron', 1600)\n",
    "parrot_cxi = nest.Create('parrot_neuron', 400)\n",
    "\n",
    "conn_dict = {'rule': 'all_to_all'}\n",
    "\n",
    "nest.Connect(cor_back, parrot_cxe, conn_dict, {'model': 'static_synapse'})\n",
    "nest.Connect(cor_back, parrot_cxi, conn_dict, {'model': 'static_synapse'})"
   ]
  },
  {
   "cell_type": "code",
   "execution_count": 12,
   "metadata": {
    "collapsed": true
   },
   "outputs": [],
   "source": [
    "correction = (1 + 1 * math.exp(-0.062 * -55) / 3.57)\n",
    "\n",
    "w_plus = 1.7\n",
    "f = float(len(Cxe_L)) /len(Cxe)\n",
    "w_minus = 1 - f * (w_plus - 1) / (1 - f)"
   ]
  },
  {
   "cell_type": "code",
   "execution_count": 13,
   "metadata": {
    "collapsed": true
   },
   "outputs": [],
   "source": [
    "nest.Connect(parrot_cxe, Cxe, {'rule': 'one_to_one'}, {'model': 'eAMPA', 'weight': 2.1})\n",
    "#nest.Connect(parrot_cxe, Cxe, {'rule': 'one_to_one'}, {'model': 'eNMDA', 'weight': 0.165 / correction})\n",
    "\n",
    "nest.Connect(parrot_cxi, Cxi, {'rule': 'one_to_one'}, {'model': 'eAMPA', 'weight': 1.62 })\n",
    "#nest.Connect(parrot_cxi, Cxi, {'rule': 'one_to_one'}, {'model': 'eNMDA', 'weight': 0.13 / correction})"
   ]
  },
  {
   "cell_type": "markdown",
   "metadata": {},
   "source": [
    "### External Connections"
   ]
  },
  {
   "cell_type": "code",
   "execution_count": 14,
   "metadata": {
    "collapsed": true
   },
   "outputs": [],
   "source": [
    "nest.Connect(Cxe_L, SCe_L, conn_dict, {'model': 'eAMPA', 'weight': 3.5})\n",
    "nest.Connect(Cxe_L, CD_L, conn_dict, {'model': 'eAMPA', 'weight': 3.}) # 1 - 4.5 nS\n",
    "\n",
    "nest.Connect(Cxe_R, SCe_L, conn_dict, {'model': 'eAMPA', 'weight': 3.5})\n",
    "nest.Connect(Cxe_R, CD_L, conn_dict, {'model': 'eAMPA', 'weight': 3.}) # 1 - 4.5 nS"
   ]
  },
  {
   "cell_type": "markdown",
   "metadata": {},
   "source": [
    "### Internal Connections"
   ]
  },
  {
   "cell_type": "code",
   "execution_count": 15,
   "metadata": {
    "collapsed": true
   },
   "outputs": [],
   "source": [
    "nest.Connect(Cxe_L, Cxe_L, conn_dict, {'model': 'eAMPA', 'weight': 0.085})\n",
    "nest.Connect(Cxe_R, Cxe_R, conn_dict, {'model': 'eAMPA', 'weight': 0.085})\n",
    "nest.Connect(Cxe_AND, Cxe_AND, conn_dict, {'model': 'eAMPA', 'weight': 0.085})\n",
    "nest.Connect(Cxe_ALL, Cxe_ALL, conn_dict, {'model': 'eAMPA', 'weight': 0.085})\n",
    "\n",
    "nest.Connect(Cxe_L, Cxe_L, conn_dict, {'model': 'eNMDA', 'weight': 0.2805 / correction })\n",
    "nest.Connect(Cxe_R, Cxe_R, conn_dict, {'model': 'eNMDA', 'weight': 0.2805 / correction})\n",
    "nest.Connect(Cxe_AND, Cxe_AND, conn_dict, {'model': 'eNMDA', 'weight': 0.2805 / correction})\n",
    "nest.Connect(Cxe_ALL, Cxe_ALL, conn_dict, {'model': 'eNMDA', 'weight': 0.2805 / correction})\n",
    "\n",
    "nest.Connect(Cxe, Cxi, conn_dict, {'model': 'eAMPA', 'weight': 0.04 })\n",
    "nest.Connect(Cxe, Cxi, conn_dict, {'model': 'eNMDA', 'weight': 0.13 / correction })\n",
    "\n",
    "nest.Connect(Cxi, Cxe, conn_dict, {'model': 'eGABA', 'weight': 1.3 })\n",
    "nest.Connect(Cxi, Cxi, conn_dict, {'model': 'eGABA', 'weight': 1.0 })\n",
    "\n",
    "nest.Connect(Cxe_L, Cxe_R, conn_dict, {'model': 'eAMPA', 'weight': 0.043825})\n",
    "nest.Connect(Cxe_R, Cxe_L, conn_dict, {'model': 'eAMPA', 'weight': 0.043825})\n",
    "\n",
    "nest.Connect(Cxe_L, Cxe_R, conn_dict, {'model': 'eNMDA', 'weight': 0.14462 / correction })\n",
    "nest.Connect(Cxe_R, Cxe_L, conn_dict, {'model': 'eNMDA', 'weight': 0.14462 / correction })\n",
    "\n",
    "# *******************************\n",
    "nest.Connect(Cxe_AND, Cxe_ALL, conn_dict, {'model': 'eAMPA', 'weight': 0.05 })\n",
    "nest.Connect(Cxe_AND, Cxe_ALL, conn_dict, {'model': 'eNMDA', 'weight': 0.165 / correction })\n",
    "\n",
    "nest.Connect(Cxe_L, Cxe_ALL, conn_dict, {'model': 'eAMPA', 'weight': 0.043825})\n",
    "nest.Connect(Cxe_R, Cxe_ALL, conn_dict, {'model': 'eAMPA', 'weight': 0.043825})\n",
    "nest.Connect(Cxe_L, Cxe_ALL, conn_dict, {'model': 'eNMDA', 'weight': 0.14462 / correction })\n",
    "nest.Connect(Cxe_R, Cxe_ALL, conn_dict, {'model': 'eNMDA', 'weight': 0.14462 / correction })\n",
    "\n",
    "nest.Connect(Cxe_ALL, Cxe_non, conn_dict, {'model': 'eAMPA', 'weight': 0.05 })\n",
    "nest.Connect(Cxe_ALL, Cxe_non, conn_dict, {'model': 'eNMDA', 'weight': 0.165 / correction })\n",
    "# *******************************\n",
    "\n",
    "nest.Connect(Cxe_L, Cxe_non, conn_dict, {'model': 'eAMPA', 'weight': 0.05})\n",
    "nest.Connect(Cxe_L, Cxe_non, conn_dict, {'model': 'eNMDA', 'weight': 0.165 / correction })\n",
    "nest.Connect(Cxe_R, Cxe_non, conn_dict, {'model': 'eAMPA', 'weight': 0.05 })\n",
    "nest.Connect(Cxe_R, Cxe_non, conn_dict, {'model': 'eNMDA', 'weight': 0.165 / correction })\n",
    "\n",
    "nest.Connect(Cxe_non, Cxe_L, conn_dict, {'model': 'eAMPA', 'weight': 0.043825})\n",
    "nest.Connect(Cxe_non, Cxe_L, conn_dict, {'model': 'eNMDA', 'weight': 0.14462 / correction })\n",
    "nest.Connect(Cxe_non, Cxe_R, conn_dict, {'model': 'eAMPA', 'weight': 0.043825})\n",
    "nest.Connect(Cxe_non, Cxe_R, conn_dict, {'model': 'eNMDA', 'weight': 0.14462 / correction })\n",
    "nest.Connect(Cxe_non, Cxe_AND, conn_dict, {'model': 'eAMPA', 'weight': 0.043825})\n",
    "nest.Connect(Cxe_non, Cxe_AND, conn_dict, {'model': 'eNMDA', 'weight': 0.14462 / correction })\n",
    "\n",
    "nest.Connect(Cxe_non, Cxe_non, conn_dict, {'model': 'eAMPA', 'weight': 0.05})\n",
    "nest.Connect(Cxe_non, Cxe_non, conn_dict, {'model': 'eNMDA', 'weight': 0.165/ correction })"
   ]
  },
  {
   "cell_type": "code",
   "execution_count": 16,
   "metadata": {
    "collapsed": true
   },
   "outputs": [],
   "source": [
    "coherence = 25.6\n",
    "u_a_factor = 60\n",
    "u_b_factor = 20\n",
    "\n",
    "u_a = 20 + u_a_factor * coherence / 100.\n",
    "u_b = 20 - u_b_factor * coherence / 100.\n",
    "\n",
    "\n",
    "#input_one = nest.Create('poisson_generator', 1, {'rate': u_a, 'start': 200., 'stop' : 225.})\n",
    "#input_two = nest.Create('poisson_generator', 1, {'rate': u_a, 'start': 500., 'stop' : 525.})\n",
    "\n",
    "#nest.Connect(input_one, Cxe_L, conn_dict, {'model': 'eAMPA', 'weight': 2.1 })\n",
    "#nest.Connect(input_two, Cxe_L, conn_dict, {'model': 'eAMPA', 'weight': 2.1 })"
   ]
  },
  {
   "cell_type": "markdown",
   "metadata": {},
   "source": [
    "# Run the Model"
   ]
  },
  {
   "cell_type": "code",
   "execution_count": 24,
   "metadata": {
    "collapsed": true
   },
   "outputs": [],
   "source": [
    "multis = []\n",
    "for i in Cxe:\n",
    "    multimeter = nest.Create(\"multimeter\")\n",
    "    multis.append(multimeter)\n",
    "    nest.SetStatus(multimeter, {\"withtime\":True, \"record_from\":[\"V_m\"]})\n",
    "    nest.Connect(multimeter, [i])\n",
    "\n",
    "spikedetector = nest.Create(\"spike_detector\",\n",
    "                params={\"withgid\": True, \"withtime\": True})\n",
    "nest.Connect(Cxe, spikedetector)"
   ]
  },
  {
   "cell_type": "code",
   "execution_count": 25,
   "metadata": {
    "collapsed": true
   },
   "outputs": [],
   "source": [
    "import nest.raster_plot\n",
    "\n",
    "pops = [Cxe_L, Cxe_R, Cxe_ALL, Cxe_AND]\n",
    "sds = []\n",
    "for i in range(len(pops)):\n",
    "    sds.append(nest.Create(\"spike_detector\",\n",
    "                params={\"withtime\": True}))\n",
    "    nest.Connect(pops[i], sds[i])"
   ]
  },
  {
   "cell_type": "code",
   "execution_count": 26,
   "metadata": {
    "collapsed": true
   },
   "outputs": [],
   "source": [
    "import time\n",
    "start = time.time()\n",
    "sim_time = 800."
   ]
  },
  {
   "cell_type": "code",
   "execution_count": 27,
   "metadata": {},
   "outputs": [
    {
     "name": "stdout",
     "output_type": "stream",
     "text": [
      "53.3057391644\n"
     ]
    }
   ],
   "source": [
    "nest.Simulate(sim_time)\n",
    "end = time.time()\n",
    "print end - start"
   ]
  },
  {
   "cell_type": "code",
   "execution_count": 28,
   "metadata": {
    "collapsed": true,
    "scrolled": false
   },
   "outputs": [],
   "source": [
    "import pylab\n",
    "pylab.ion()\n",
    "\n",
    "names = [\"Cxe_L\", \"Cxe_R\", \"Cxe_ALL\", \"Cxe_AND\"]"
   ]
  },
  {
   "cell_type": "code",
   "execution_count": null,
   "metadata": {
    "collapsed": true
   },
   "outputs": [],
   "source": [
    "import matplotlib.pyplot as plt\n",
    "\n",
    "frame = 50 # 50 ms firing rate interval"
   ]
  },
  {
   "cell_type": "code",
   "execution_count": null,
   "metadata": {
    "collapsed": true
   },
   "outputs": [],
   "source": [
    "width = 12\n",
    "height = 12\n",
    "plt.figure(figsize=(width, height))\n",
    "\n",
    "offset = 50\n",
    "\n",
    "plt.subplot(231)\n",
    "for i in range(0,4):\n",
    "    times = []\n",
    "    values = []\n",
    "    for j in range(offset + frame / 2 , (int) (sim_time - frame / 2), frame / 10):\n",
    "        times.append(j)\n",
    "        dsd = nest.GetStatus(sds[i],keys=\"events\")[0][\"times\"]\n",
    "        count = sum(1 if x <= j + frame / 2. and x >= j - frame / 2. else 0 for x in dsd)\n",
    "        values.append(1000. * count / frame / len(pops[i]))\n",
    "    plt.plot(times, values, lw=2, label= names[i])\n",
    "plt.legend()\n",
    "\n",
    "plt.subplot(234)\n",
    "for i in range(4,5):\n",
    "    times = []\n",
    "    values = []\n",
    "    for j in range(offset + frame / 2 , (int) (sim_time - frame / 2), frame / 10):\n",
    "        times.append(j)\n",
    "        dsd = nest.GetStatus(sds[i],keys=\"events\")[0][\"times\"]\n",
    "        count = sum(1 if x <= j + frame / 2. and x >= j - frame / 2. else 0 for x in dsd)\n",
    "        values.append(1000. * count / frame / len(pops[i]))\n",
    "    plt.plot(times, values, lw=2, label= names[i])\n",
    "plt.legend()\n",
    "\n",
    "plt.subplot(232)\n",
    "for i in range(5,6):\n",
    "    times = []\n",
    "    values = []\n",
    "    for j in range(offset + frame / 2 , (int) (sim_time - frame / 2), frame / 10):\n",
    "        times.append(j)\n",
    "        dsd = nest.GetStatus(sds[i],keys=\"events\")[0][\"times\"]\n",
    "        count = sum(1 if x <= j + frame / 2. and x >= j - frame / 2. else 0 for x in dsd)\n",
    "        values.append(1000. * count / frame / len(pops[i]))\n",
    "    plt.plot(times, values, lw=2, label= names[i])\n",
    "plt.legend()\n",
    "\n",
    "plt.subplot(235)\n",
    "for i in range(6,7):\n",
    "    times = []\n",
    "    values = []\n",
    "    for j in range(offset + frame / 2 , (int) (sim_time - frame / 2), frame / 10):\n",
    "        times.append(j)\n",
    "        dsd = nest.GetStatus(sds[i],keys=\"events\")[0][\"times\"]\n",
    "        count = sum(1 if x <= j + frame / 2. and x >= j - frame / 2. else 0 for x in dsd)\n",
    "        values.append(1000. * count / frame / len(pops[i]))\n",
    "    plt.plot(times, values, lw=2, label= names[i])\n",
    "plt.legend()\n",
    "\n",
    "plt.subplot(233)\n",
    "for i in range(7,8):\n",
    "    times = []\n",
    "    values = []\n",
    "    for j in range(offset + frame / 2 , (int) (sim_time - frame / 2), frame / 10):\n",
    "        times.append(j)\n",
    "        dsd = nest.GetStatus(sds[i],keys=\"events\")[0][\"times\"]\n",
    "        count = sum(1 if x <= j + frame / 2. and x >= j - frame / 2. else 0 for x in dsd)\n",
    "        values.append(1000. * count / frame / len(pops[i]))\n",
    "    plt.plot(times, values, lw=2, label= names[i])\n",
    "plt.legend()\n",
    "\n",
    "plt.subplot(236)\n",
    "for i in range(8,9):\n",
    "    times = []\n",
    "    values = []\n",
    "    for j in range(offset + frame / 2 , (int) (sim_time - frame / 2), frame / 10):\n",
    "        times.append(j)\n",
    "        dsd = nest.GetStatus(sds[i],keys=\"events\")[0][\"times\"]\n",
    "        count = sum(1 if x <= j + frame / 2. and x >= j - frame / 2. else 0 for x in dsd)\n",
    "        values.append(1000. * count / frame / len(pops[i]))\n",
    "    plt.plot(times, values, lw=2, label= names[i])\n",
    "plt.legend()"
   ]
  },
  {
   "cell_type": "code",
   "execution_count": null,
   "metadata": {
    "collapsed": true
   },
   "outputs": [],
   "source": []
  }
 ],
 "metadata": {
  "anaconda-cloud": {},
  "kernelspec": {
   "display_name": "Python [conda root]",
   "language": "python",
   "name": "conda-root-py"
  },
  "language_info": {
   "codemirror_mode": {
    "name": "ipython",
    "version": 2
   },
   "file_extension": ".py",
   "mimetype": "text/x-python",
   "name": "python",
   "nbconvert_exporter": "python",
   "pygments_lexer": "ipython2",
   "version": "2.7.12"
  }
 },
 "nbformat": 4,
 "nbformat_minor": 1
}
