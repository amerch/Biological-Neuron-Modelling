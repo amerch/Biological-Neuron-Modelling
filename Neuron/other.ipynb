{
 "cells": [
  {
   "cell_type": "code",
   "execution_count": 1,
   "metadata": {
    "collapsed": true
   },
   "outputs": [],
   "source": [
    "from brian2 import *\n",
    "%matplotlib inline"
   ]
  },
  {
   "cell_type": "code",
   "execution_count": 41,
   "metadata": {},
   "outputs": [
    {
     "name": "stderr",
     "output_type": "stream",
     "text": [
      "INFO       No numerical integration method specified for group 'neurongroup', using method 'euler' (took 0.05s, trying other methods took 0.08s). [brian2.stateupdaters.base.method_choice]\n"
     ]
    },
    {
     "data": {
      "image/png": "[encoded data removed]",
      "text/plain": [
       "<matplotlib.figure.Figure at 0x10de3c910>"
      ]
     },
     "metadata": {},
     "output_type": "display_data"
    }
   ],
   "source": [
    "start_scope()\n",
    "\n",
    "# Eventually do something like this\n",
    "# def iaf_model(g_ampa, g_nmda, g_gaba)\n",
    "c_m = 0.2 * nF\n",
    "gl = 20 * nS\n",
    "vl = -70 * mV\n",
    "isyn = 0 * amp\n",
    "\n",
    "vt = -50*mV\n",
    "vr = -55*mV\n",
    "ve = 0*mV\n",
    "vi = -70*mV\n",
    "\n",
    "ta = 2 * ms\n",
    "tn = 100 * ms\n",
    "tg = 5 * ms\n",
    "\n",
    "gn = 1.5 * nS\n",
    "gg = 2.5 * nS\n",
    "ga = 3.5 * nS\n",
    "\n",
    "alpha = 0.63\n",
    "\n",
    "duration = 100 * ms\n",
    "eqs = '''\n",
    "dv/dt = (-gl * (v - vl) - isyn) / c_m : volt (unless refractory)\n",
    "dsn/dt = -sn / tn : 1\n",
    "dsa/dt = -sa / ta : 1\n",
    "dsg/dt = -sg / tg : 1\n",
    "ia = ga * sa * (v - ve) : amp\n",
    "ig = gg * sg * (v - vi) : amp\n",
    "nmda = (1 + e ** (-0.062*v / (1 * volt)) / 3.57) : 1\n",
    "inm = gn * sn * (v - ve) / nmda : amp\n",
    "isyn = ia + inm + ig : amp\n",
    "'''\n",
    "\n",
    "G = NeuronGroup(2, eqs, threshold='v>vt', reset='v=vr', refractory=2*ms)\n",
    "G.v = 'vr'\n",
    "\n",
    "S = Synapses(G, G,\n",
    "             on_pre='''\n",
    "             sa_post += 1\n",
    "             sn_post += 0.63 * (1 - sn_post)\n",
    "             sg_post += 1\n",
    "             ''')\n",
    "S.connect(i=0, j=1)\n",
    "P = PoissonGroup(1, 100*Hz)\n",
    "\n",
    "M = StateMonitor(G, 'v', record=True)\n",
    "\n",
    "run(30*ms)\n",
    "\n",
    "plot(M.t/ms, M.v[0])\n",
    "xlabel('Time (ms)')\n",
    "ylabel('v');"
   ]
  },
  {
   "cell_type": "code",
   "execution_count": null,
   "metadata": {
    "collapsed": true
   },
   "outputs": [],
   "source": []
  },
  {
   "cell_type": "code",
   "execution_count": null,
   "metadata": {
    "collapsed": true
   },
   "outputs": [],
   "source": []
  }
 ],
 "metadata": {
  "anaconda-cloud": {},
  "kernelspec": {
   "display_name": "Python [conda root]",
   "language": "python",
   "name": "conda-root-py"
  },
  "language_info": {
   "codemirror_mode": {
    "name": "ipython",
    "version": 2
   },
   "file_extension": ".py",
   "mimetype": "text/x-python",
   "name": "python",
   "nbconvert_exporter": "python",
   "pygments_lexer": "ipython2",
   "version": "2.7.12"
  }
 },
 "nbformat": 4,
 "nbformat_minor": 1
}
