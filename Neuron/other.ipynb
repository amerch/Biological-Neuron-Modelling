{
 "cells": [
  {
   "cell_type": "code",
   "execution_count": 22,
   "metadata": {
    "collapsed": true
   },
   "outputs": [],
   "source": [
    "from brian2 import *\n",
    "%matplotlib inline"
   ]
  },
  {
   "cell_type": "code",
   "execution_count": 23,
   "metadata": {
    "collapsed": false
   },
   "outputs": [
    {
     "name": "stderr",
     "output_type": "stream",
     "text": [
      "INFO       No numerical integration method specified for group 'neurongroup_1', using method 'euler' (took 0.02s, trying other methods took 0.00s). [brian2.stateupdaters.base.method_choice]\n",
      "WARNING    \"vt\" is an internal variable of group \"neurongroup_1\", but also exists in the run namespace with the value -50. * mvolt. The internal variable will be used. [brian2.groups.group.Group.resolve.resolution_conflict]\n"
     ]
    },
    {
     "data": {
      "text/plain": [
       "<matplotlib.text.Text at 0x10e651350>"
      ]
     },
     "execution_count": 23,
     "metadata": {},
     "output_type": "execute_result"
    },
    {
     "data": {
      "image/png": "[encoded data removed]",
      "text/plain": [
       "<matplotlib.figure.Figure at 0x10d826450>"
      ]
     },
     "metadata": {},
     "output_type": "display_data"
    }
   ],
   "source": [
    "start_scope()\n",
    "\n",
    "N = 1000\n",
    "tau = 10*ms\n",
    "vr = -70*mV\n",
    "vt0 = -50*mV\n",
    "delta_vt0 = 5*mV\n",
    "tau_t = 100*ms\n",
    "sigma = 0.5*(vt0-vr)\n",
    "v_drive = 2*(vt0-vr)\n",
    "duration = 100*ms\n",
    "\n",
    "eqs = '''\n",
    "dv/dt = (v_drive+vr-v)/tau + sigma*xi*tau**-0.5 : volt\n",
    "dvt/dt = (vt0-vt)/tau_t : volt\n",
    "'''\n",
    "\n",
    "reset = '''\n",
    "v = vr\n",
    "vt += delta_vt0\n",
    "'''\n",
    "\n",
    "G = NeuronGroup(N, eqs, threshold='v>vt', reset=reset, refractory=5*ms)\n",
    "spikemon = SpikeMonitor(G)\n",
    "\n",
    "G.v = 'rand()*(vt0-vr)+vr'\n",
    "G.vt = vt0\n",
    "\n",
    "run(duration)\n",
    "\n",
    "_ = hist(spikemon.t/ms, 100, histtype='stepfilled', facecolor='k', weights=ones(len(spikemon))/(N*defaultclock.dt))\n",
    "xlabel('Time (ms)')\n",
    "ylabel('Instantaneous firing rate (sp/s)')"
   ]
  },
  {
   "cell_type": "code",
   "execution_count": 24,
   "metadata": {
    "collapsed": false
   },
   "outputs": [
    {
     "data": {
      "image/png": "[encoded data removed]",
      "text/plain": [
       "<matplotlib.figure.Figure at 0x10d745050>"
      ]
     },
     "metadata": {},
     "output_type": "display_data"
    }
   ],
   "source": [
    "start_scope() \n",
    "\n",
    "n = 1000\n",
    "duration = 1*second\n",
    "tau = 10*ms\n",
    "gL = 20*nS\n",
    "cM = 0.2*nF\n",
    "vL = -70*mV\n",
    "eqs = '''\n",
    "dv/dt = (v0 - v) / tau - gL * (v - vL) / cM : volt (unless refractory)\n",
    "v0 : volt\n",
    "'''\n",
    "group = NeuronGroup(n, eqs, threshold='v > 10*mV', reset='v = 0*mV',\n",
    "                    refractory=5*ms, method='linear')\n",
    "group.v = 0*mV\n",
    "group.v0 = '20*mV * i / (n-1)'\n",
    "\n",
    "monitor = SpikeMonitor(group)\n",
    "\n",
    "run(duration)\n",
    "plot(group.v0/mV, monitor.count / duration)\n",
    "xlabel('v0 (mV)')\n",
    "ylabel('Firing rate (sp/s)')\n",
    "show()"
   ]
  },
  {
   "cell_type": "code",
   "execution_count": 41,
   "metadata": {
    "collapsed": false
   },
   "outputs": [
    {
     "name": "stderr",
     "output_type": "stream",
     "text": [
      "INFO       No numerical integration method specified for group 'neurongroup', using method 'euler' (took 0.05s, trying other methods took 0.08s). [brian2.stateupdaters.base.method_choice]\n"
     ]
    },
    {
     "data": {
      "image/png": "[encoded data removed]",
      "text/plain": [
       "<matplotlib.figure.Figure at 0x10de3c910>"
      ]
     },
     "metadata": {},
     "output_type": "display_data"
    }
   ],
   "source": [
    "start_scope()\n",
    "\n",
    "# Eventually do something like this\n",
    "# def iaf_model(g_ampa, g_nmda, g_gaba)\n",
    "c_m = 0.2 * nF\n",
    "gl = 20 * nS\n",
    "vl = -70 * mV\n",
    "isyn = 0 * amp\n",
    "\n",
    "vt = -50*mV\n",
    "vr = -55*mV\n",
    "ve = 0*mV\n",
    "vi = -70*mV\n",
    "\n",
    "ta = 2 * ms\n",
    "tn = 100 * ms\n",
    "tg = 5 * ms\n",
    "\n",
    "gn = 1.5 * nS\n",
    "gg = 2.5 * nS\n",
    "ga = 3.5 * nS\n",
    "\n",
    "alpha = 0.63\n",
    "\n",
    "duration = 100 * ms\n",
    "eqs = '''\n",
    "dv/dt = (-gl * (v - vl) - isyn) / c_m : volt (unless refractory)\n",
    "dsn/dt = -sn / tn : 1\n",
    "dsa/dt = -sa / ta : 1\n",
    "dsg/dt = -sg / tg : 1\n",
    "ia = ga * sa * (v - ve) : amp\n",
    "ig = gg * sg * (v - vi) : amp\n",
    "nmda = (1 + e ** (-0.062*v / (1 * volt)) / 3.57) : 1\n",
    "inm = gn * sn * (v - ve) / nmda : amp\n",
    "isyn = ia + inm + ig : amp\n",
    "'''\n",
    "\n",
    "G = NeuronGroup(2, eqs, threshold='v>vt', reset='v=vr', refractory=2*ms)\n",
    "G.v = 'vr'\n",
    "\n",
    "S = Synapses(G, G,\n",
    "             on_pre='''\n",
    "             sa_post += 1\n",
    "             sn_post += 0.63 * (1 - sn_post)\n",
    "             sg_post += 1\n",
    "             ''')\n",
    "S.connect(i=0, j=1)\n",
    "P = PoissonGroup(1, 100*Hz)\n",
    "\n",
    "M = StateMonitor(G, 'v', record=True)\n",
    "\n",
    "run(30*ms)\n",
    "\n",
    "plot(M.t/ms, M.v[0])\n",
    "xlabel('Time (ms)')\n",
    "ylabel('v');"
   ]
  },
  {
   "cell_type": "code",
   "execution_count": null,
   "metadata": {
    "collapsed": true
   },
   "outputs": [],
   "source": []
  },
  {
   "cell_type": "code",
   "execution_count": null,
   "metadata": {
    "collapsed": true
   },
   "outputs": [],
   "source": []
  }
 ],
 "metadata": {
  "anaconda-cloud": {},
  "kernelspec": {
   "display_name": "Python [conda root]",
   "language": "python",
   "name": "conda-root-py"
  },
  "language_info": {
   "codemirror_mode": {
    "name": "ipython",
    "version": 2
   },
   "file_extension": ".py",
   "mimetype": "text/x-python",
   "name": "python",
   "nbconvert_exporter": "python",
   "pygments_lexer": "ipython2",
   "version": "2.7.12"
  }
 },
 "nbformat": 4,
 "nbformat_minor": 1
}
